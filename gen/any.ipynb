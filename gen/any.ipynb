{
 "cells": [
  {
   "cell_type": "code",
   "execution_count": null,
   "metadata": {},
   "outputs": [],
   "source": [
    "from diffusers import StableDiffusionPipeline, DiffusionPipeline\n",
    "import torch"
   ]
  },
  {
   "cell_type": "code",
   "execution_count": null,
   "metadata": {},
   "outputs": [],
   "source": [
    "pipe1 = StableDiffusionPipeline.from_pretrained(\"andite/anything-v4.0\", torch_dtype=torch.float16, safety_checker=None)\n",
    "pipe1 = pipe1.to(\"cuda\")"
   ]
  },
  {
   "cell_type": "code",
   "execution_count": null,
   "metadata": {},
   "outputs": [],
   "source": [
    "prompt = \"((masterpiece, best quality, ultra-detailed)), close-up, face focus, upper body, blur background, girl, teeneger, school uniform, white shirt, brown hair, medium hair, hair clips, rose eyes, white eyeglasses, cheerful, smart, book\"\n",
    "ne_prompt = \"3d, wet, sailor uniform, pilot uniform, blazer, maid, chest, big chest, tie, very long hair\""
   ]
  },
  {
   "cell_type": "code",
   "execution_count": null,
   "metadata": {},
   "outputs": [],
   "source": [
    "\n",
    "for i in range(50):\n",
    "    seed = 2**i\n",
    "    images1 = pipe1(prompt,\n",
    "        guidance_scale=9,\n",
    "        height=1024,\n",
    "        width=1024,\n",
    "        generator=torch.Generator(\"cuda\").manual_seed(seed),\n",
    "        negative_prompt= ne_prompt,\n",
    "        num_inference_steps=500,\n",
    "    ).images\n",
    "\n",
    "    images1[0].save('imgs/rose_{}.jpg'.format(seed))"
   ]
  },
  {
   "cell_type": "code",
   "execution_count": null,
   "metadata": {},
   "outputs": [],
   "source": []
  }
 ],
 "metadata": {
  "kernelspec": {
   "display_name": "env",
   "language": "python",
   "name": "python3"
  },
  "language_info": {
   "codemirror_mode": {
    "name": "ipython",
    "version": 3
   },
   "file_extension": ".py",
   "mimetype": "text/x-python",
   "name": "python",
   "nbconvert_exporter": "python",
   "pygments_lexer": "ipython3",
   "version": "3.9.16"
  },
  "orig_nbformat": 4
 },
 "nbformat": 4,
 "nbformat_minor": 2
}
