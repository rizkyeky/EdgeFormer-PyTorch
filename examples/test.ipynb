{
 "cells": [
  {
   "cell_type": "code",
   "execution_count": 5,
   "metadata": {},
   "outputs": [
    {
     "data": {
      "text/plain": [
       "(1, 1, 8)"
      ]
     },
     "execution_count": 5,
     "metadata": {},
     "output_type": "execute_result"
    }
   ],
   "source": [
    "# Number 1, Milk bottle\n",
    "\n",
    "bottle1 = 5\n",
    "bottle2 = 7\n",
    "bottle3 = 11\n",
    "x = 100\n",
    "min_total = float('inf')\n",
    "for i in range(1, x+1):\n",
    "    for j in range(1, x+1):\n",
    "        for k in range(1, x+1):\n",
    "            total = i*bottle1 + j*bottle2 + k*bottle3\n",
    "            if total >= x and total < min_total:\n",
    "                min_total = total\n",
    "                min_bottles = (i, j, k)\n",
    "\n",
    "print(min_bottles)"
   ]
  },
  {
   "cell_type": "code",
   "execution_count": null,
   "metadata": {},
   "outputs": [],
   "source": [
    "# Number 2, Adult man needs carbo\n",
    "\n",
    "rice = 28\n",
    "corn = 21\n",
    "potato = 17\n",
    "cost = 1 / (rice + corn + potato)\n",
    "total_cost = 0\n",
    "total_carb = 0\n",
    "while total_carb < 400:\n",
    "    total_carb += potato\n",
    "    total_cost += potato * cost\n",
    "    if total_carb < 400:\n",
    "        total_carb += corn\n",
    "        total_cost += corn * cost\n",
    "    if total_carb < 400:\n",
    "        total_carb += rice\n",
    "        total_cost += rice * cost\n",
    "\n",
    "print(total_cost)\n",
    "print(total_carb)"
   ]
  },
  {
   "cell_type": "code",
   "execution_count": 6,
   "metadata": {},
   "outputs": [
    {
     "name": "stdout",
     "output_type": "stream",
     "text": [
      "2\n",
      "3\n"
     ]
    }
   ],
   "source": [
    "# Number 3, Fibonacci\n",
    "x = 2\n",
    "y = 3\n",
    "n = 3\n",
    "\n",
    "even_sum = 0\n",
    "odd_sum = 0\n",
    "\n",
    "if x % 2 == 0:\n",
    "    even_sum += x\n",
    "\n",
    "if y % 2 == 0:\n",
    "    even_sum += y\n",
    "\n",
    "current = x\n",
    "next_num = y\n",
    "\n",
    "for i in range(2, n):\n",
    "    if next_num % 2 == 0:\n",
    "        even_sum += next_num\n",
    "    else:\n",
    "        odd_sum += next_num\n",
    "    current, next_num = next_num, current + next_num\n",
    "\n",
    "print(even_sum)\n",
    "print(odd_sum)\n"
   ]
  },
  {
   "cell_type": "code",
   "execution_count": 8,
   "metadata": {},
   "outputs": [
    {
     "name": "stdout",
     "output_type": "stream",
     "text": [
      "['a', 'e', 'l', 'p', 'p']\n"
     ]
    }
   ],
   "source": [
    "# 4 Number, Sort string\n",
    "string = list('apple')\n",
    "n = len(string)\n",
    "for i in range(n):\n",
    "    for j in range(0, n-i-1):\n",
    "        if string[j] > string[j+1]:\n",
    "                string[j], string[j+1] = string[j+1], string[j]\n",
    "print(string)"
   ]
  },
  {
   "cell_type": "code",
   "execution_count": 15,
   "metadata": {},
   "outputs": [
    {
     "ename": "ValueError",
     "evalue": "operands could not be broadcast together with shapes (6,5) (5,6) ",
     "output_type": "error",
     "traceback": [
      "\u001b[0;31m---------------------------------------------------------------------------\u001b[0m",
      "\u001b[0;31mValueError\u001b[0m                                Traceback (most recent call last)",
      "Cell \u001b[0;32mIn[15], line 7\u001b[0m\n\u001b[1;32m      4\u001b[0m arr1 \u001b[39m=\u001b[39m np\u001b[39m.\u001b[39mndarray((n, m))\n\u001b[1;32m      5\u001b[0m arr2 \u001b[39m=\u001b[39m np\u001b[39m.\u001b[39mndarray((m, n))\n\u001b[0;32m----> 7\u001b[0m \u001b[39mprint\u001b[39m(np\u001b[39m.\u001b[39;49mmultiply(arr1, arr2))\n",
      "\u001b[0;31mValueError\u001b[0m: operands could not be broadcast together with shapes (6,5) (5,6) "
     ]
    }
   ],
   "source": [
    "# Number 9, Perkalian matriks\n",
    "import numpy as np\n",
    "n = 6\n",
    "m = 5\n",
    "arr1 = np.ndarray((n, m))\n",
    "arr2 = np.ndarray((m, n))\n",
    "\n",
    "print(np.multiply(arr1, arr2))"
   ]
  }
 ],
 "metadata": {
  "kernelspec": {
   "display_name": "cv",
   "language": "python",
   "name": "python3"
  },
  "language_info": {
   "codemirror_mode": {
    "name": "ipython",
    "version": 3
   },
   "file_extension": ".py",
   "mimetype": "text/x-python",
   "name": "python",
   "nbconvert_exporter": "python",
   "pygments_lexer": "ipython3",
   "version": "3.9.15"
  },
  "orig_nbformat": 4
 },
 "nbformat": 4,
 "nbformat_minor": 2
}
