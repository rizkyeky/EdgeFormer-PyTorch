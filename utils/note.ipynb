{
 "cells": [
  {
   "cell_type": "code",
   "execution_count": 1,
   "metadata": {},
   "outputs": [
    {
     "name": "stderr",
     "output_type": "stream",
     "text": [
      "/Users/eky/Documents/_SKRIPSI/_main/env/lib/python3.9/site-packages/tqdm/auto.py:21: TqdmWarning: IProgress not found. Please update jupyter and ipywidgets. See https://ipywidgets.readthedocs.io/en/stable/user_install.html\n",
      "  from .autonotebook import tqdm as notebook_tqdm\n"
     ]
    }
   ],
   "source": [
    "import torch\n",
    "import torchvision"
   ]
  },
  {
   "cell_type": "code",
   "execution_count": 19,
   "metadata": {},
   "outputs": [
    {
     "name": "stdout",
     "output_type": "stream",
     "text": [
      "tensor([ 1,  3,  5,  7,  9, 11])\n"
     ]
    }
   ],
   "source": [
    "a = torch.tensor([0, 2, 4, 6, 8, 10])\n",
    "b = torch.tensor([1, 3, 5, 7, 9, 11])\n",
    "c = torch.tensor([100]).repeat(a.shape[0])\n",
    "d = torch.tensor([300]).repeat(a.shape[0])\n",
    "\n",
    "e = torch.stack((a,b,c,d), dim=1)\n",
    "\n",
    "print(e[:,1])"
   ]
  },
  {
   "cell_type": "code",
   "execution_count": 30,
   "metadata": {},
   "outputs": [
    {
     "name": "stdout",
     "output_type": "stream",
     "text": [
      "tensor([[[1, 1, 1, 1, 2, 2, 2, 2],\n",
      "         [1, 1, 1, 1, 2, 2, 2, 2],\n",
      "         [1, 1, 1, 1, 2, 2, 2, 2],\n",
      "         [1, 1, 1, 1, 2, 2, 2, 2]],\n",
      "\n",
      "        [[1, 1, 1, 1, 2, 2, 2, 2],\n",
      "         [1, 1, 1, 1, 2, 2, 2, 2],\n",
      "         [1, 1, 1, 1, 2, 2, 2, 2],\n",
      "         [1, 1, 1, 1, 2, 2, 2, 2]],\n",
      "\n",
      "        [[1, 1, 1, 1, 2, 2, 2, 2],\n",
      "         [1, 1, 1, 1, 2, 2, 2, 2],\n",
      "         [1, 1, 1, 1, 2, 2, 2, 2],\n",
      "         [1, 1, 1, 1, 2, 2, 2, 2]],\n",
      "\n",
      "        [[1, 1, 1, 1, 2, 2, 2, 2],\n",
      "         [1, 1, 1, 1, 2, 2, 2, 2],\n",
      "         [1, 1, 1, 1, 2, 2, 2, 2],\n",
      "         [1, 1, 1, 1, 2, 2, 2, 2]]]) torch.Size([4, 4, 8])\n"
     ]
    }
   ],
   "source": [
    "c = torch.tensor([1,1,1,1]).repeat(4, 1)\n",
    "d = torch.tensor([2,2,2,2]).repeat(4, 1)\n",
    "\n",
    "e = torch.stack([c, d]).T.repeat_interleave(4, dim=-1)\n",
    "\n",
    "print(e, e.shape)\n"
   ]
  }
 ],
 "metadata": {
  "kernelspec": {
   "display_name": "env",
   "language": "python",
   "name": "python3"
  },
  "language_info": {
   "codemirror_mode": {
    "name": "ipython",
    "version": 3
   },
   "file_extension": ".py",
   "mimetype": "text/x-python",
   "name": "python",
   "nbconvert_exporter": "python",
   "pygments_lexer": "ipython3",
   "version": "3.9.16"
  },
  "orig_nbformat": 4
 },
 "nbformat": 4,
 "nbformat_minor": 2
}
