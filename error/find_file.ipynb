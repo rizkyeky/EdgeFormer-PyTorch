{
 "cells": [
  {
   "cell_type": "code",
   "execution_count": 7,
   "metadata": {},
   "outputs": [],
   "source": [
    "with open('error_file.txt', 'r') as f:\n",
    "    files = f.read()\n",
    "    files = files.replace('\\n', ' ')\n",
    "    files = files.replace('  ', ' ')\n",
    "    files = files.split(' ')"
   ]
  },
  {
   "cell_type": "code",
   "execution_count": 8,
   "metadata": {},
   "outputs": [
    {
     "name": "stdout",
     "output_type": "stream",
     "text": [
      "trans3_Eky000068_0.jpg 2\n",
      "trans_robot1_Sha0569_0.jpg 2\n",
      "trans4_Cha000832_0.jpg 2\n",
      "trans2_Cha000692.jpg 2\n",
      "Cha000770.jpg 2\n"
     ]
    }
   ],
   "source": [
    "# print(len(files))\n",
    "files_set = set(files)\n",
    "# print(len(files_set))\n",
    "for file_set in files_set:\n",
    "    if files.count(file_set) > 1:\n",
    "        print(file_set, files.count(file_set))"
   ]
  }
 ],
 "metadata": {
  "kernelspec": {
   "display_name": "env",
   "language": "python",
   "name": "python3"
  },
  "language_info": {
   "codemirror_mode": {
    "name": "ipython",
    "version": 3
   },
   "file_extension": ".py",
   "mimetype": "text/x-python",
   "name": "python",
   "nbconvert_exporter": "python",
   "pygments_lexer": "ipython3",
   "version": "3.9.16"
  },
  "orig_nbformat": 4
 },
 "nbformat": 4,
 "nbformat_minor": 2
}
